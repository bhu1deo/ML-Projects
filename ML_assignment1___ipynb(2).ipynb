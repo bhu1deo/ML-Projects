{
 "cells": [
  {
   "cell_type": "markdown",
   "metadata": {
    "colab_type": "text",
    "id": "13at-uWgvkQP"
   },
   "source": [
    "#Classification using Support Vector Machine\n",
    "Please do not import any other python library except numpy and matplotlib "
   ]
  },
  {
   "cell_type": "code",
   "execution_count": 1,
   "metadata": {
    "colab": {},
    "colab_type": "code",
    "id": "JFRYyHWL-tOq"
   },
   "outputs": [],
   "source": [
    "import numpy as np\n",
    "import matplotlib.pyplot as plt\n",
    "#import necessary libraries"
   ]
  },
  {
   "cell_type": "code",
   "execution_count": null,
   "metadata": {},
   "outputs": [],
   "source": [
    "\n",
    "    "
   ]
  },
  {
   "cell_type": "code",
   "execution_count": 4,
   "metadata": {},
   "outputs": [],
   "source": [
    "# np.random.rand() generates random number\n",
    "# data = [[np.random.rand(), np.random.rand()] for i in range(10)]\n",
    "# data             array of random numbers\n",
    "# 2 Dimensional data"
   ]
  },
  {
   "cell_type": "markdown",
   "metadata": {
    "colab_type": "text",
    "id": "IYcrun6CbQ0L"
   },
   "source": [
    "#Generating Random linearly separable data\n"
   ]
  },
  {
   "cell_type": "code",
   "execution_count": 12,
   "metadata": {
    "colab": {},
    "colab_type": "code",
    "id": "2Ene7E42Ytrc"
   },
   "outputs": [
    {
     "data": {
      "text/plain": [
       "[[0.024085827971629392, 0.8621403461725737, -1],\n",
       " [0.9790456345966975, 0.9761560802666334, -1],\n",
       " [0.2398930697917121, 0.9610530044130835, -1],\n",
       " [0.4750639083796856, 0.23984954076920073, 1],\n",
       " [0.31827501102242306, 0.2001456083468912, 1],\n",
       " [0.7675148148298111, 0.8873244315070384, -1],\n",
       " [0.4966505206621439, 0.5644768156978488, -1],\n",
       " [0.07823217771054991, 0.9933859125792296, -1],\n",
       " [0.5277707513623712, 0.11099090130251765, 1],\n",
       " [0.1831368975396882, 0.6383172352418768, -1]]"
      ]
     },
     "execution_count": 12,
     "metadata": {},
     "output_type": "execute_result"
    }
   ],
   "source": [
    "data_new = [[np.random.rand(), np.random.rand()] for i in range(10)]\n",
    "data=[]\n",
    "for i, point in enumerate(data_new):\n",
    "    x, y = point\n",
    "    if 0.5*x - y + 0.25 > 0:        #separating hyperplane\n",
    "        data_new[i].append(1)\n",
    "        data.append(data_new[i])\n",
    "    elif 0.5*x - y + 0.25 < 0:\n",
    "        data_new[i].append(-1)\n",
    "        data.append(data_new[i])\n",
    "#Here labels are assigned to the data entries see the data below\n",
    "data\n",
    "#So the data is a list of lists \n",
    "#Each list contains 2 features of a point and the corresponding label"
   ]
  },
  {
   "cell_type": "markdown",
   "metadata": {
    "colab_type": "text",
    "id": "qkrFjTOad2aU"
   },
   "source": [
    "#Visualizing the above data"
   ]
  },
  {
   "cell_type": "code",
   "execution_count": 14,
   "metadata": {
    "colab": {
     "base_uri": "https://localhost:8080/",
     "height": 269
    },
    "colab_type": "code",
    "id": "VPdWewWZbk1r",
    "outputId": "fa0ae002-8998-4a9e-deba-60c07c5f3f1d"
   },
   "outputs": [
    {
     "data": {
      "text/plain": [
       "<matplotlib.collections.PathCollection at 0x7f03c0822290>"
      ]
     },
     "execution_count": 14,
     "metadata": {},
     "output_type": "execute_result"
    },
    {
     "data": {
      "image/png": "[encoded data removed]",
      "text/plain": [
       "<Figure size 432x288 with 1 Axes>"
      ]
     },
     "metadata": {
      "needs_background": "light"
     },
     "output_type": "display_data"
    }
   ],
   "source": [
    "for x, y, l in data:\n",
    "    if l == 1:        #if label equals 1 color red\n",
    "        clr = 'red'\n",
    "    else: \n",
    "        clr = 'blue'  #if label equals -1 color blue\n",
    "    plt.scatter(x, y, c=clr)                 #Scatter the points\n",
    "    plt.xlim(0,1)\n",
    "    plt.ylim(0,1)\n",
    "    \n",
    "x1 = np.linspace(0, 1, num=400)       #Equally spaced points on the X-axis\n",
    "y1 = 0.5*x1+0.25                      #Equation of the line to be plotted\n",
    "plt.scatter(x1, y1, c='green',linewidth=0)    #Scatter the points on the line \n",
    " "
   ]
  },
  {
   "cell_type": "markdown",
   "metadata": {
    "colab_type": "text",
    "id": "8Ul5Uantin_q"
   },
   "source": [
    "#SVM Classifier\n",
    "Train a SVM classifier using gradient descent and return a Weight Matrix which is a numpy array of length (N + 1) where N is dimension of training samples. \n",
    "You can refer to Fig. 1 in [this](https://www.cs.huji.ac.il/~shais/papers/ShalevSiSrCo10.pdf) paper for implementation. You can add arguments to svm_function according to your implementation."
   ]
  },
  {
   "cell_type": "code",
   "execution_count": 16,
   "metadata": {
    "colab": {},
    "colab_type": "code",
    "id": "9y6Jet_QcdBo"
   },
   "outputs": [],
   "source": [
    "def svm_function(x, y, epoch, l_rate,reg_param): #regularization parameter added to arguments\n",
    "    \n",
    "    w=np.zeros(x.shape[1])                #While the first index of x.shape gives the number of training samples the second index tells us the dimension of each of the feature \n",
    "    b=0\n",
    "    N=len(x)                    #The total number of training samples\n",
    "    #So the SVM goes as follows:\n",
    "    #At each iteration choose a single training sample at random\n",
    "    #Estimate the gradient of the objective function with respect to the weights and the bias\n",
    "    #Use gradient descent to go in opposite direction of the gradient to arrive at a solution \n",
    "    #After sufficient number of epochs, and then plot the decision boundary\n",
    "    for i in range(epoch):\n",
    "        l_rate=1/(reg_param*(i+1))\n",
    "        k=np.random.randint(0,N)               #choose a training sample randomly\n",
    "        (x1,y1)=(x[k],y[k])                    #The features and the labels of the kth chosen training sample\n",
    "        if(y1*(np.dot(w,x1)+b)<1):             #misclassification!!!!!!\n",
    "            w-=l_rate*(reg_param*(w)-y1*x1)\n",
    "            b-=l_rate*(-y1)\n",
    "        else:\n",
    "            w-=l_rate*reg_param*(w)\n",
    "    return (w,b)"
   ]
  },
  {
   "cell_type": "markdown",
   "metadata": {
    "colab_type": "text",
    "id": "5xSS1Rn5iuLL"
   },
   "source": [
    "#Run SVM Classifier"
   ]
  },
  {
   "cell_type": "code",
   "execution_count": 17,
   "metadata": {
    "colab": {},
    "colab_type": "code",
    "id": "LVAtpfnme0J-"
   },
   "outputs": [
    {
     "name": "stdout",
     "output_type": "stream",
     "text": [
      "[[ 0.02408583  0.86214035 -1.        ]\n",
      " [ 0.97904563  0.97615608 -1.        ]\n",
      " [ 0.23989307  0.961053   -1.        ]\n",
      " [ 0.47506391  0.23984954  1.        ]\n",
      " [ 0.31827501  0.20014561  1.        ]\n",
      " [ 0.76751481  0.88732443 -1.        ]\n",
      " [ 0.49665052  0.56447682 -1.        ]\n",
      " [ 0.07823218  0.99338591 -1.        ]\n",
      " [ 0.52777075  0.1109909   1.        ]\n",
      " [ 0.1831369   0.63831724 -1.        ]]\n"
     ]
    },
    {
     "data": {
      "image/png": "[encoded data removed]",
      "text/plain": [
       "<Figure size 432x288 with 1 Axes>"
      ]
     },
     "metadata": {
      "needs_background": "light"
     },
     "output_type": "display_data"
    }
   ],
   "source": [
    "\n",
    "data = np.asarray(data)         #Convert data to numpy array for better utility\n",
    "print(data)        \n",
    "X = data[:,:2]                  #The features of the data\n",
    "# print(X)      The data points X\n",
    "Y = data[:,2]                   #The labels of the data\n",
    "# print(Y)      The labels Y\n",
    "w = svm_function(X, Y, 100000, 0.25,0.01)     \n",
    "# print(X[0],Y[0])\n",
    "# print(len(Y))\n",
    "# k=np.random.randint(0,10)\n",
    "# (x,y)=(X[k],Y[k])\n",
    "# print(x,y,k)\n",
    "# w=np.ones(X.shape[1])\n",
    "# 10*w\n",
    "for x, y, l in data:\n",
    "    if l == 1:        #if label equals 1 color red\n",
    "        clr = 'red'\n",
    "    else: \n",
    "        clr = 'blue'  #if label equals -1 color blue\n",
    "    plt.scatter(x, y, c=clr)\n",
    "    plt.xlim(0,1)\n",
    "    plt.ylim(0,1)\n",
    "x1 = np.linspace(0, 1, num=400)         #Again create a linspace to draw lines\n",
    "y1 = 0.5*x1+0.25                        \n",
    "plt.scatter(x1, y1, c='green',linewidth=0.1)\n",
    "x2 = np.linspace(0, 1, num=400)\n",
    "y2 = ((-w[0][0])/w[0][1])*x1-w[1]/w[0][1]     #The SVM line\n",
    "plt.scatter(x2, y2, c='cyan',linewidth=0.1)\n",
    "plt.show()"
   ]
  },
  {
   "cell_type": "markdown",
   "metadata": {
    "colab_type": "text",
    "id": "neqORagGixnt"
   },
   "source": [
    "#Visualize the classifier\n",
    "Write a code to draw a lines corrosponding to 'w' vector you got as output from svm_function and for a line from which actual data was generated\n",
    "(0.5*x - y + 0.25). "
   ]
  },
  {
   "cell_type": "code",
   "execution_count": 0,
   "metadata": {
    "colab": {},
    "colab_type": "code",
    "id": "lkyRWfFSw2aq"
   },
   "outputs": [],
   "source": [
    "    ###################################\n",
    "    ### Write your code here###########\n",
    "    ###################################"
   ]
  },
  {
   "cell_type": "markdown",
   "metadata": {
    "colab_type": "text",
    "id": "dY3IRad0-Cg8"
   },
   "source": [
    "Increase the number of data-points and observe number of epochs to converge. Draw plots showing data-points, actual data seprating line and line corrosponding to 'w' you got from svm_function for 10, 20, 30, 40, 50 and 100 data-points. Please use only one notebook cell for this visualization. Please use subplot function in matplotlib for this."
   ]
  },
  {
   "cell_type": "code",
   "execution_count": 19,
   "metadata": {
    "colab": {},
    "colab_type": "code",
    "id": "o2rqwN3zD1IY"
   },
   "outputs": [
    {
     "data": {
      "image/png": "[encoded data removed]",
      "text/plain": [
       "<Figure size 432x288 with 6 Axes>"
      ]
     },
     "metadata": {
      "needs_background": "light"
     },
     "output_type": "display_data"
    }
   ],
   "source": [
    "# Increase the number of data points and observe the number of epochs to converge\n",
    "# generate data with variable number of data points\n",
    "fig, axs = plt.subplots(2,3)\n",
    "num_data_points=[10,20,30,40,100,10]\n",
    "for k in range(6):\n",
    "    \n",
    "\n",
    "    # axs[0, 1].plot(x, y, 'tab:orange')\n",
    "    # axs[0, 1].set_title('Axis [0,1]')\n",
    "    \n",
    "\n",
    "    data_new = [[np.random.rand(), np.random.rand()] for i in range(num_data_points[k])]\n",
    "    data=[]\n",
    "    for i, point in enumerate(data_new):\n",
    "        x, y = point\n",
    "        if 0.5*x - y + 0.25 > 0:        #separating hyperplane\n",
    "            data_new[i].append(1)\n",
    "            data.append(data_new[i])\n",
    "        elif 0.5*x - y + 0.25 < 0:\n",
    "            data_new[i].append(-1)\n",
    "            data.append(data_new[i])\n",
    "    #Here labels are assigned to the data entries\n",
    "\n",
    "\n",
    "    for x, y, l in data:\n",
    "        if l == 1:        #if label equals 1 color red\n",
    "            clr = 'red'\n",
    "        else: \n",
    "            clr = 'blue'  #if label equals -1 color blue\n",
    "        axs[k//3,k%3].scatter(x,y,color=clr,linewidths=0)\n",
    "    \n",
    "    \n",
    "    data = np.asarray(data)\n",
    "\n",
    "    X = data[:,:2]\n",
    "    # print(X)      The data points X\n",
    "    Y = data[:,2]\n",
    "    # print(Y)      The labels Y\n",
    "    w = svm_function(X, Y, 100000, 0.25,0.0001)\n",
    "    x1 = np.linspace(0, 1, num=400)\n",
    "    y1 = 0.5*x1+0.25\n",
    "    axs[k//3,k%3].plot(x1, y1,color='green')\n",
    "    x2 = np.linspace(0, 1, num=400)\n",
    "    y2 = ((-w[0][0])/w[0][1])*x1-w[1]/w[0][1]\n",
    "    axs[k//3,k%3].plot(x2, y2,color='cyan')\n",
    "plt.show()\n"
   ]
  },
  {
   "cell_type": "markdown",
   "metadata": {
    "colab_type": "text",
    "id": "nybBTVAuv7vX"
   },
   "source": [
    "#Perturbing the previously created  data\n",
    "Add noise to the data and visualize the resulting classifier.\n",
    "\n",
    "\n"
   ]
  },
  {
   "cell_type": "code",
   "execution_count": 110,
   "metadata": {
    "colab": {},
    "colab_type": "code",
    "id": "v072suqtiZqP"
   },
   "outputs": [],
   "source": [
    "for i in range(len(data)):\n",
    "    data[i][0] += (np.random.rand() - 0.25) / 2.\n",
    "    data[i][1] += (np.random.rand() - 0.25) / 2."
   ]
  },
  {
   "cell_type": "markdown",
   "metadata": {
    "colab_type": "text",
    "id": "v9cziKy-yzRB"
   },
   "source": [
    "#Visualizing the perturbed Data and training a soft svm model."
   ]
  },
  {
   "cell_type": "code",
   "execution_count": 111,
   "metadata": {
    "colab": {
     "base_uri": "https://localhost:8080/",
     "height": 269
    },
    "colab_type": "code",
    "id": "3XCbAHV9v_h4",
    "outputId": "d6dddcd0-f2b6-4008-877c-f7ba9e30cd9e"
   },
   "outputs": [
    {
     "data": {
      "image/png": "[encoded data removed]",
      "text/plain": [
       "<Figure size 432x288 with 1 Axes>"
      ]
     },
     "metadata": {
      "needs_background": "light"
     },
     "output_type": "display_data"
    }
   ],
   "source": [
    "\n",
    "\n",
    "for x, y, l in data:\n",
    "    if l == 1: \n",
    "        clr = 'red'\n",
    "    else: \n",
    "        clr = 'blue'\n",
    "    plt.scatter(x, y, c=clr)\n",
    "    plt.xlim(-2,2)\n",
    "    plt.ylim(-2,2)\n",
    "x1 = np.linspace(-2, 2, num=400)\n",
    "y1 = 0.5*x1+0.25\n",
    "plt.scatter(x1, y1, c='green',linewidth=0.1)\n",
    "\n",
    "data = np.asarray(data)\n",
    "\n",
    "X = data[:,:2]\n",
    "\n",
    "# print(X)      The data points X\n",
    "Y = data[:,2]\n",
    "# print(Y)      The labels Y\n",
    "w = svm_function(X, Y, 100000, 0.25,0.0001)\n",
    "x2 = np.linspace(-2, 2, num=400)\n",
    "y2 = ((-w[0][0])/w[0][1])*x1-w[1]/w[0][1]\n",
    "plt.scatter(x2, y2, c='cyan',linewidth=0.1)\n",
    "plt.show()"
   ]
  },
  {
   "cell_type": "code",
   "execution_count": 112,
   "metadata": {},
   "outputs": [],
   "source": [
    "# We can use a SOFT SVM model for noisy data\n",
    "\n",
    "# Here the parameter slack variable also goes into the objective function\n",
    "def soft_svm_function(x, y, epoch, l_rate,reg_param,C): #regularization parameter added to arguments\n",
    "    \n",
    "    slack_var=np.zeros(len(x))\n",
    "    w=np.zeros(x.shape[1])\n",
    "    b=0\n",
    "    N=len(x)\n",
    "    #So the SVM goes as follows:\n",
    "    #At each iteration choose a single training sample at random\n",
    "    #Estimate the gradient of the objective function with respect to the weights and the bias\n",
    "    #Use gradient descent to go in opposite direction of the gradient to arrive at a solution \n",
    "    #After sufficient number of epochs, and then plot the decision boundary\n",
    "    for i in range(epoch):\n",
    "#         l_rate=1/(reg_param*(i+1))\n",
    "        k=np.random.randint(0,N)\n",
    "        (x1,y1)=(x[k],y[k])\n",
    "        if(y1*(np.dot(w,x1)+b)<1-slack_var[k]):       #misclassification!!!!!!\n",
    "            w-=l_rate*(reg_param*(w)-y1*x1)\n",
    "            b-=l_rate*(-y1)\n",
    "            slack_var[k]-=l_rate*(C-1)\n",
    "        else:\n",
    "            w-=l_rate*reg_param*(w)\n",
    "            slack_var[k]-=l_rate*(C)\n",
    "    return (w,b)"
   ]
  },
  {
   "cell_type": "markdown",
   "metadata": {},
   "source": [
    "The  allowance of softness in margins (i.e. a low cost setting) allows for errors to be made while fitting the model (support vectors) to the training/discovery data set.    Conversely, hard margins will result in fitting of a model that allows zero errors.    Sometimes it can be helpful to allow for errors in the training set, because it may produce a more generalizable model when applied to new datasets.   Forcing rigid margins can result in a model that performs perfectly in the training set, but is possibly over-fit  / less generalizable when applied to a new dataset.   Identifying the best settings for 'cost' is probably related to the specific data set you are working with.  Currently, there aren't many good solutions for simultaneously optimizing cost, features, and kernel parameters (if using a non-linear kernel).   "
   ]
  },
  {
   "cell_type": "code",
   "execution_count": 113,
   "metadata": {},
   "outputs": [
    {
     "data": {
      "image/png": "[encoded data removed]",
      "text/plain": [
       "<Figure size 432x288 with 1 Axes>"
      ]
     },
     "metadata": {
      "needs_background": "light"
     },
     "output_type": "display_data"
    }
   ],
   "source": [
    "for x, y, l in data:\n",
    "    if l == 1: \n",
    "        clr = 'red'\n",
    "    else: \n",
    "        clr = 'blue'\n",
    "    plt.scatter(x, y, c=clr)\n",
    "    plt.xlim(-2,2)\n",
    "    plt.ylim(-2,2)\n",
    "x1 = np.linspace(-2, 2, num=400)\n",
    "y1 = 0.5*x1+0.25\n",
    "# plt.scatter(x1, y1, c='green',linewidth=0.1)\n",
    "\n",
    "data = np.asarray(data)\n",
    "\n",
    "X = data[:,:2]\n",
    "\n",
    "# print(X)      The data points X\n",
    "Y = data[:,2]\n",
    "# print(Y)      The labels Y\n",
    "w = soft_svm_function(X, Y, 10000, 0.15,0.0001,0.99995)\n",
    "x2 = np.linspace(-2, 2, num=400)\n",
    "y2 = ((-w[0][0])/w[0][1])*x1-w[1]/w[0][1]\n",
    "plt.scatter(x2, y2, c='cyan',linewidth=0.1)\n",
    "plt.show()"
   ]
  },
  {
   "cell_type": "markdown",
   "metadata": {
    "colab_type": "text",
    "id": "ytt1BrH_y5ms"
   },
   "source": [
    "#Visualize the classifier trained on noisy data\n",
    "Plot actual seperating line and seperating line you got from svm_classifier. Do this for 10, 20, 30, 40, 50 and 100 data points. You can vary the scale of noise as well. Please use only one notebook cell for this visualization. Please use subplot function in matplotlib for this."
   ]
  },
  {
   "cell_type": "markdown",
   "metadata": {
    "colab_type": "text",
    "id": "UWE93egabZsN"
   },
   "source": [
    "#Read the Random Non-linear data stored in CSV1 and visualize it"
   ]
  },
  {
   "cell_type": "code",
   "execution_count": 137,
   "metadata": {
    "colab": {},
    "colab_type": "code",
    "id": "8ypsb9HEwUFc"
   },
   "outputs": [
    {
     "data": {
      "text/plain": [
       "2.718281828459045"
      ]
     },
     "execution_count": 137,
     "metadata": {},
     "output_type": "execute_result"
    }
   ],
   "source": [
    "np.exp(1)"
   ]
  },
  {
   "cell_type": "code",
   "execution_count": 406,
   "metadata": {},
   "outputs": [
    {
     "name": "stdout",
     "output_type": "stream",
     "text": [
      "Original Data\n"
     ]
    },
    {
     "data": {
      "image/png": "[encoded data removed]",
      "text/plain": [
       "<Figure size 432x288 with 1 Axes>"
      ]
     },
     "metadata": {
      "needs_background": "light"
     },
     "output_type": "display_data"
    },
    {
     "name": "stdout",
     "output_type": "stream",
     "text": [
      "Transformed Data\n"
     ]
    },
    {
     "data": {
      "image/png": "[encoded data removed]",
      "text/plain": [
       "<Figure size 432x288 with 1 Axes>"
      ]
     },
     "metadata": {
      "needs_background": "light"
     },
     "output_type": "display_data"
    }
   ],
   "source": [
    "import pandas as pd\n",
    "import numpy as np\n",
    "import matplotlib.pyplot as plt\n",
    "\n",
    "#Let's read the data\n",
    "df=pd.read_csv('/home/bhushan/Machine_Learning/Amit_Sethi Assignments/assignment_1/csv1.csv',header=None)\n",
    "\n",
    "\n",
    "#Let's visualize the data\n",
    "df = np.asarray(df)\n",
    "# print(df)\n",
    "X=df[:,0:2]\n",
    "y=df[:,2]\n",
    "\n",
    "print(\"Original Data\")\n",
    "for i in range(len(y)):\n",
    "    if y[i] == 1: \n",
    "        clr = 'red'\n",
    "    else: \n",
    "        clr = 'blue'\n",
    "    plt.scatter(X[i,0],X[i,1], c=clr)\n",
    "plt.show()\n",
    "\n",
    "\n",
    "    \n",
    "for i in range(len(y)):\n",
    "    if y[i] == 1: \n",
    "        clr = 'green'\n",
    "    else: \n",
    "        clr = 'cyan'\n",
    "    plt.scatter(np.cos(X[i,0]),(X[i,1]), c=clr)\n",
    "#     plt.xlim(np.cos(X[i,0]).min()-1,np.cos(X[i,0]).max()+1)\n",
    "#     plt.ylim(np.sin(X[i,0]).min()-1,np.sin(X[i,0]).max()+1)\n",
    "\n",
    "#Thus the data is satisfactorily to be linearly separable\n",
    "#So transform the data as follows:\n",
    "print(\"Transformed Data\")\n",
    "max_x=0\n",
    "min_x=100\n",
    "for i in range(len(y)):\n",
    "    df[i,0:2]=[np.cos(X[i,0]),(X[i,1])]\n",
    "    if(df[i,0]>max_x):\n",
    "        max_x=df[i,0]\n",
    "    if(df[i,0]<min_x):\n",
    "        min_x=df[i,0]\n",
    "\n",
    "X = df[:,:2]\n",
    "# print(X)      The data points X\n",
    "Y = df[:,2]\n",
    "# print(Y)      The labels Y\n",
    "w = svm_function(X, Y, 100000, 0.25,0.0001)\n",
    "x2 = np.linspace(min_x,max_x+0.1, num=100)\n",
    "y2 = ((-w[0][0])/w[0][1])*x2-w[1]/w[0][1]\n",
    "plt.scatter(x2, y2, c='red',linewidth=0.1)\n",
    "plt.show()\n"
   ]
  },
  {
   "cell_type": "code",
   "execution_count": 405,
   "metadata": {},
   "outputs": [
    {
     "name": "stdout",
     "output_type": "stream",
     "text": [
      "Original Data\n"
     ]
    },
    {
     "data": {
      "image/png": "[encoded data removed]",
      "text/plain": [
       "<Figure size 432x288 with 1 Axes>"
      ]
     },
     "metadata": {
      "needs_background": "light"
     },
     "output_type": "display_data"
    },
    {
     "name": "stdout",
     "output_type": "stream",
     "text": [
      "Transformed Data\n"
     ]
    },
    {
     "data": {
      "image/png": "[encoded data removed]",
      "text/plain": [
       "<Figure size 432x288 with 1 Axes>"
      ]
     },
     "metadata": {
      "needs_background": "light"
     },
     "output_type": "display_data"
    }
   ],
   "source": [
    "\n",
    "\n",
    "\n",
    "import pandas as pd\n",
    "import numpy as np\n",
    "import matplotlib.pyplot as plt\n",
    "\n",
    "#Let's read the data\n",
    "df=pd.read_csv('/home/bhushan/Machine_Learning/Amit_Sethi Assignments/assignment_1/csv2.csv',header=None)\n",
    "\n",
    "\n",
    "#Let's visualize the data\n",
    "df = np.asarray(df)\n",
    "X=df[:,0:2]\n",
    "y=df[:,2]\n",
    "\n",
    "print(\"Original Data\")\n",
    "for i in range(len(y)):\n",
    "    if y[i] == 1: \n",
    "        clr = 'red'\n",
    "    else: \n",
    "        clr = 'blue'\n",
    "    plt.scatter(X[i,0],X[i,1], c=clr)\n",
    "plt.show()\n",
    "\n",
    "for i in range(len(y)):\n",
    "    if y[i] == 1: \n",
    "        clr = 'green'\n",
    "    else: \n",
    "        clr = 'cyan'\n",
    "    plt.scatter(np.cos(X[i,0]+X[i,1]),(X[i,0]**2+X[i,1]**2), c=clr)\n",
    "print(\"Transformed Data\")    \n",
    "max_x=0\n",
    "min_x=100\n",
    "for i in range(len(y)):\n",
    "    df[i,0:2]=[np.cos(X[i,0]+X[i,1]),(X[i,0]**2+X[i,1]**2)]\n",
    "    if(df[i,0]>max_x):\n",
    "        max_x=df[i,0]\n",
    "    if(df[i,0]<min_x):\n",
    "        min_x=df[i,0]\n",
    "    \n",
    "# print(df)\n",
    "X = df[:,:2]\n",
    "# print(X)      The data points X\n",
    "Y = df[:,2]\n",
    "# print(Y)      The labels Y\n",
    "w = svm_function(X, Y, 100000, 0.25,0.0001)\n",
    "x2 = np.linspace(min_x,max_x+0.1, num=100)\n",
    "y2 = ((-w[0][0])/w[0][1])*x2-w[1]/w[0][1]\n",
    "plt.scatter(x2, y2, c='red',linewidth=0.1)\n",
    "plt.show()\n",
    "\n",
    "\n",
    "\n",
    "# for i in range(len(y)):\n",
    "#     if y[i] == 1: \n",
    "#         clr = 'green'\n",
    "#     else: \n",
    "#         clr = 'cyan'\n",
    "#     plt.scatter(np.cos(X[i,0]),np.exp(X[i,1]), c=clr)\n",
    "\n",
    "\n",
    "\n",
    "    "
   ]
  },
  {
   "cell_type": "code",
   "execution_count": 403,
   "metadata": {},
   "outputs": [
    {
     "name": "stdout",
     "output_type": "stream",
     "text": [
      "Original Data\n"
     ]
    },
    {
     "data": {
      "image/png": "[encoded data removed]",
      "text/plain": [
       "<Figure size 432x288 with 1 Axes>"
      ]
     },
     "metadata": {
      "needs_background": "light"
     },
     "output_type": "display_data"
    },
    {
     "name": "stdout",
     "output_type": "stream",
     "text": [
      "Transformed Data\n"
     ]
    },
    {
     "data": {
      "image/png": "[encoded data removed]",
      "text/plain": [
       "<Figure size 432x288 with 1 Axes>"
      ]
     },
     "metadata": {
      "needs_background": "light"
     },
     "output_type": "display_data"
    }
   ],
   "source": [
    "import pandas as pd\n",
    "import numpy as np\n",
    "import matplotlib.pyplot as plt\n",
    "\n",
    "#Let's read the data\n",
    "df=pd.read_csv('/home/bhushan/Machine_Learning/Amit_Sethi Assignments/assignment_1/csv3.csv',header=None)\n",
    "\n",
    "\n",
    "#Let's visualize the data\n",
    "df = np.asarray(df)\n",
    "X=df[:,0:2]\n",
    "y=df[:,2]\n",
    "print(\"Original Data\")\n",
    "for i in range(len(y)):\n",
    "    if y[i] == 1: \n",
    "        clr = 'red'\n",
    "    else: \n",
    "        clr = 'blue'\n",
    "    plt.scatter(X[i,0],X[i,1], c=clr)\n",
    "plt.show()\n",
    "\n",
    "# print(X[:,0])\n",
    "for i in range(len(y)):\n",
    "    p=np.sin(X[i,0]**2+X[i,1]**2)\n",
    "    q=np.cos(X[i,0]-X[i,1])\n",
    "    if y[i] == 1: \n",
    "        clr = 'red'\n",
    "    else: \n",
    "        clr = 'blue'\n",
    "#     plt.scatter(X[i,0],X[i,1], c=clr)\n",
    "    plt.scatter(p,q, c=clr)\n",
    "\n",
    "print(\"Transformed Data\")    \n",
    "max_x=0\n",
    "min_x=100\n",
    "for i in range(len(y)):\n",
    "    df[i,0:2]=[np.sin(X[i,0]**2+X[i,1]**2),np.cos(X[i,0]-X[i,1])]\n",
    "    if(df[i,0]>max_x):\n",
    "        max_x=df[i,0]\n",
    "    if(df[i,0]<min_x):\n",
    "        min_x=df[i,0]\n",
    "    \n",
    "# print(df)\n",
    "X = df[:,:2]\n",
    "# print(X)      The data points X\n",
    "Y = df[:,2]\n",
    "# print(Y)      The labels Y\n",
    "w = svm_function(X, Y, 100000, 0.25,0.0001)\n",
    "x2 = np.linspace(min_x,max_x+0.1, num=100)\n",
    "y2 = ((-w[0][0])/w[0][1])*x2-w[1]/w[0][1]\n",
    "plt.scatter(x2, y2, c='cyan',linewidth=0.1)\n",
    "plt.show()\n",
    "\n",
    "\n",
    "# for i in range(len(y)):\n",
    "#     if y[i] == 1: \n",
    "#         clr = 'green'\n",
    "#     else: \n",
    "#         clr = 'cyan'\n",
    "#     plt.scatter(np.cos(X[i,0]),np.exp(X[i,1]), c=clr)"
   ]
  },
  {
   "cell_type": "markdown",
   "metadata": {
    "colab_type": "text",
    "id": "alWwrjazvVLl"
   },
   "source": [
    "#Train a SVM classifier on the linearly non-separable data by appropriate features crafted from input data\n",
    "For linearly non-separable data, you need to transform the data in a space where it can be linearly seprable. These features can be exponential, polynomial, trignometric or any other function of actual input features. For example, if your input data is (x1, x2) you can have hand-crafted features as (sin(x1), cos(x1), cos(x2), x1-x2). \n",
    "Here you need to think of which hand-crafted features can be best suited for data given to you. Write a function to convert input features to hand-crafted features. Use these features to train a SVM using svm_function.\n",
    "Note that, if you choose to have L hand-crafted features, SVM will return L+1 dimensional 'w'. \n"
   ]
  },
  {
   "cell_type": "code",
   "execution_count": 0,
   "metadata": {
    "colab": {},
    "colab_type": "code",
    "id": "gCzlFpckwVzO"
   },
   "outputs": [],
   "source": [
    "    ################################################\n",
    "    ### Write your code here for features###########\n",
    "    ################################################\n",
    "\n",
    "\n",
    "    ######################################################\n",
    "    ### Write your code here for classification###########\n",
    "    ######################################################\n"
   ]
  },
  {
   "cell_type": "markdown",
   "metadata": {
    "colab_type": "text",
    "id": "iN_UcRMNRGWN"
   },
   "source": [
    "#Visualize decision boundary\n",
    "Here, as 'w' retuened by svm_function is (L+1) dimensional, you can not visualize it in the form of line in 2D. To visualize non-linear decision boundary in 2D, you can generate few hundred random data-points and can observe if classifier labels them +1 or -1. Then you can plot this points with different colors to get emperical decision boundary. Write the code for visualization of non-linear decision boundary in next cell."
   ]
  },
  {
   "cell_type": "code",
   "execution_count": 0,
   "metadata": {
    "colab": {},
    "colab_type": "code",
    "id": "bBIXZbAnSlNa"
   },
   "outputs": [],
   "source": [
    "    ###################################\n",
    "    ### Write your code here###########\n",
    "    ###################################"
   ]
  },
  {
   "cell_type": "markdown",
   "metadata": {
    "colab_type": "text",
    "id": "iUk6uoThwZMp"
   },
   "source": [
    "#Read the Random Non-linear data stored in CSV2"
   ]
  },
  {
   "cell_type": "code",
   "execution_count": 0,
   "metadata": {
    "colab": {},
    "colab_type": "code",
    "id": "Xbba53QawbRW"
   },
   "outputs": [],
   "source": [
    "    ###################################\n",
    "    ### Write your code here###########\n",
    "    ###################################"
   ]
  },
  {
   "cell_type": "markdown",
   "metadata": {
    "colab_type": "text",
    "id": "mZ3PDED_wd41"
   },
   "source": [
    "#Train a SVM classifier on the non linear data by appropriate features and also visualise it"
   ]
  },
  {
   "cell_type": "code",
   "execution_count": 0,
   "metadata": {
    "colab": {},
    "colab_type": "code",
    "id": "-_mwG4Ffwe8V"
   },
   "outputs": [],
   "source": [
    "    ###################################\n",
    "    ### Write your code here###########\n",
    "    ###################################"
   ]
  },
  {
   "cell_type": "markdown",
   "metadata": {
    "colab_type": "text",
    "id": "y_0tNAPtwfx3"
   },
   "source": [
    "#Read the Random Non-linear data stored in CSV3"
   ]
  },
  {
   "cell_type": "code",
   "execution_count": 0,
   "metadata": {
    "colab": {},
    "colab_type": "code",
    "id": "vI8OP9mUwhmy"
   },
   "outputs": [],
   "source": [
    "    ###################################\n",
    "    ### Write your code here###########\n",
    "    ###################################"
   ]
  },
  {
   "cell_type": "markdown",
   "metadata": {
    "colab_type": "text",
    "id": "xLj09HhhwiAO"
   },
   "source": [
    "#Train a SVM classifier on the non linear data by appropriate Feature Engineering and also visualise it"
   ]
  },
  {
   "cell_type": "code",
   "execution_count": 0,
   "metadata": {
    "colab": {},
    "colab_type": "code",
    "id": "_M04CZx_wi-U"
   },
   "outputs": [],
   "source": [
    "    ###################################\n",
    "    ### Write your code here###########\n",
    "    ###################################"
   ]
  }
 ],
 "metadata": {
  "colab": {
   "collapsed_sections": [
    "UWE93egabZsN",
    "11eQhKsUbf-u",
    "zLFBBCvWbmee"
   ],
   "name": "ML_assignment1___ipynb",
   "provenance": []
  },
  "kernelspec": {
   "display_name": "Python 3",
   "language": "python",
   "name": "python3"
  },
  "language_info": {
   "codemirror_mode": {
    "name": "ipython",
    "version": 3
   },
   "file_extension": ".py",
   "mimetype": "text/x-python",
   "name": "python",
   "nbconvert_exporter": "python",
   "pygments_lexer": "ipython3",
   "version": "3.7.4"
  }
 },
 "nbformat": 4,
 "nbformat_minor": 1
}
